{
 "cells": [
  {
   "cell_type": "code",
   "execution_count": 28,
   "metadata": {},
   "outputs": [],
   "source": [
    "import requests\n",
    "import json"
   ]
  },
  {
   "cell_type": "code",
   "execution_count": 29,
   "metadata": {},
   "outputs": [],
   "source": [
    "r = requests.get('https://api.github.com/events')\n",
    "r = requests.post('https://httpbin.org/post',data = {'name':'joe'})\n",
    "r = requests.put('https://httpbin.org/put', data = {'name':'Joe'})\n",
    "r = requests.delete('https://httpbin.org/delete')\n",
    "r = requests.head('https://httpbin.org/get')\n",
    "r = requests.options('https://httpbin.org/get')"
   ]
  },
  {
   "cell_type": "code",
   "execution_count": 30,
   "metadata": {},
   "outputs": [
    {
     "name": "stdout",
     "output_type": "stream",
     "text": [
      "https://httpbin.org/get?key1=value1&key2=value2\n"
     ]
    }
   ],
   "source": [
    "payload = {'key1':'value1','key2':'value2'}\n",
    "r = requests.get(\"https://httpbin.org/get\", params=payload)\n",
    "print(r.url)"
   ]
  },
  {
   "cell_type": "code",
   "execution_count": 31,
   "metadata": {},
   "outputs": [
    {
     "name": "stdout",
     "output_type": "stream",
     "text": [
      "URL: https://httpbin.org/get?key=value1&key2=value2&key2=value3\n",
      "ENCODING:  utf-8\n",
      "STATUS_CODE:  200\n",
      "HEADERS:  {'Date': 'Wed, 27 Apr 2022 12:49:38 GMT', 'Content-Type': 'application/json', 'Content-Length': '420', 'Connection': 'keep-alive', 'Server': 'gunicorn/19.9.0', 'Access-Control-Allow-Origin': '*', 'Access-Control-Allow-Credentials': 'true'}\n",
      "TEXT:  {\n",
      "  \"args\": {\n",
      "    \"key\": \"value1\", \n",
      "    \"key2\": [\n",
      "      \"value2\", \n",
      "      \"value3\"\n",
      "    ]\n",
      "  }, \n",
      "  \"headers\": {\n",
      "    \"Accept\": \"*/*\", \n",
      "    \"Accept-Encoding\": \"gzip, deflate\", \n",
      "    \"Host\": \"httpbin.org\", \n",
      "    \"User-Agent\": \"python-requests/2.27.1\", \n",
      "    \"X-Amzn-Trace-Id\": \"Root=1-62693be2-65d9ef630fa79f2c4a055625\"\n",
      "  }, \n",
      "  \"origin\": \"61.246.139.249\", \n",
      "  \"url\": \"https://httpbin.org/get?key=value1&key2=value2&key2=value3\"\n",
      "}\n",
      "\n",
      "CONTENT:  b'{\\n  \"args\": {\\n    \"key\": \"value1\", \\n    \"key2\": [\\n      \"value2\", \\n      \"value3\"\\n    ]\\n  }, \\n  \"headers\": {\\n    \"Accept\": \"*/*\", \\n    \"Accept-Encoding\": \"gzip, deflate\", \\n    \"Host\": \"httpbin.org\", \\n    \"User-Agent\": \"python-requests/2.27.1\", \\n    \"X-Amzn-Trace-Id\": \"Root=1-62693be2-65d9ef630fa79f2c4a055625\"\\n  }, \\n  \"origin\": \"61.246.139.249\", \\n  \"url\": \"https://httpbin.org/get?key=value1&key2=value2&key2=value3\"\\n}\\n'\n",
      "JSON:  <bound method Response.json of <Response [200]>>\n"
     ]
    }
   ],
   "source": [
    "payload = {'key': 'value1', 'key2': ['value2','value3']}\n",
    "r = requests.get('https://httpbin.org/get', params=payload)\n",
    "print('URL:',r.url)\n",
    "print('ENCODING: ', r.encoding)\n",
    "print('STATUS_CODE: ', r.status_code)\n",
    "print('HEADERS: ', r.headers)\n",
    "print('TEXT: ',r.text)\n",
    "print('CONTENT: ',r.content)\n",
    "print('JSON: ', r.json)"
   ]
  },
  {
   "cell_type": "code",
   "execution_count": 32,
   "metadata": {},
   "outputs": [
    {
     "name": "stdout",
     "output_type": "stream",
     "text": [
      "{\n",
      "  \"args\": {}, \n",
      "  \"data\": \"\", \n",
      "  \"files\": {}, \n",
      "  \"form\": {\n",
      "    \"key1\": \"value1\", \n",
      "    \"key2\": \"value2\"\n",
      "  }, \n",
      "  \"headers\": {\n",
      "    \"Accept\": \"*/*\", \n",
      "    \"Accept-Encoding\": \"gzip, deflate\", \n",
      "    \"Content-Length\": \"23\", \n",
      "    \"Content-Type\": \"application/x-www-form-urlencoded\", \n",
      "    \"Host\": \"httpbin.org\", \n",
      "    \"User-Agent\": \"python-requests/2.27.1\", \n",
      "    \"X-Amzn-Trace-Id\": \"Root=1-62693be6-294ff0d8435d16f11ce8b19d\"\n",
      "  }, \n",
      "  \"json\": null, \n",
      "  \"origin\": \"61.246.139.249\", \n",
      "  \"url\": \"https://httpbin.org/post\"\n",
      "}\n",
      "\n"
     ]
    }
   ],
   "source": [
    "r = requests.post('https://httpbin.org/post',data = {'name':'Joe'})\n",
    "\n",
    "payload = {'key1': 'value1', 'key2':'value2'}\n",
    "r = requests.post(\"https://httpbin.org/post\",data=payload)\n",
    "print(r.text)"
   ]
  },
  {
   "cell_type": "markdown",
   "metadata": {},
   "source": [
    "Currency Exchange data"
   ]
  },
  {
   "cell_type": "code",
   "execution_count": 33,
   "metadata": {
    "scrolled": false
   },
   "outputs": [
    {
     "name": "stdout",
     "output_type": "stream",
     "text": [
      "{\"success\":true,\"timestamp\":1651063384,\"base\":\"EUR\",\"date\":\"2022-04-27\",\"rates\":{\"AED\":3.880188,\"AFN\":91.887408,\"ALL\":120.316216,\"AMD\":485.92312,\"ANG\":1.905448,\"AOA\":426.953033,\"ARS\":121.271909,\"AUD\":1.481782,\"AWG\":1.901522,\"AZN\":1.797465,\"BAM\":1.948804,\"BBD\":2.134724,\"BDT\":91.422527,\"BGN\":1.948773,\"BHD\":0.398182,\"BIF\":2170.942961,\"BMD\":1.056401,\"BND\":1.457126,\"BOB\":7.278916,\"BRL\":5.298889,\"BSD\":1.057298,\"BTC\":2.7107186e-5,\"BTN\":80.953468,\"BWP\":12.768783,\"BYN\":3.556179,\"BYR\":20705.465268,\"BZD\":2.131137,\"CAD\":1.356055,\"CDF\":2125.4789,\"CHF\":1.021688,\"CLF\":0.032424,\"CLP\":894.676383,\"CNY\":6.924814,\"COP\":4167.186166,\"CRC\":699.634187,\"CUC\":1.056401,\"CUP\":27.994634,\"CVE\":109.868883,\"CZK\":24.551846,\"DJF\":188.221393,\"DKK\":7.441418,\"DOP\":58.170824,\"DZD\":152.947916,\"EGP\":19.535391,\"ERN\":15.846021,\"ETB\":54.296143,\"EUR\":1,\"FJD\":2.27528,\"FKP\":0.811994,\"GBP\":0.842047,\"GEL\":3.20618,\"GGP\":0.811994,\"GHS\":7.955816,\"GIP\":0.811994,\"GMD\":56.913582,\"GNF\":9391.540083,\"GTQ\":8.097506,\"GYD\":221.194607,\"HKD\":8.288815,\"HNL\":25.949688,\"HRK\":7.566152,\"HTG\":115.241603,\"HUF\":379.543748,\"IDR\":15312.642327,\"ILS\":3.508118,\"IMP\":0.811994,\"INR\":80.961857,\"IQD\":1542.998505,\"IRR\":44738.594389,\"ISK\":138.198336,\"JEP\":0.811994,\"JMD\":163.481269,\"JOD\":0.748983,\"JPY\":135.213059,\"KES\":122.352316,\"KGS\":88.875254,\"KHR\":4275.32402,\"KMF\":482.139274,\"KPW\":950.761286,\"KRW\":1340.351533,\"KWD\":0.323513,\"KYD\":0.881111,\"KZT\":472.546299,\"LAK\":12728.427436,\"LBP\":1598.476386,\"LKR\":375.335637,\"LRD\":160.388137,\"LSL\":16.52222,\"LTL\":3.119279,\"LVL\":0.639007,\"LYD\":5.018606,\"MAD\":10.513993,\"MDL\":19.543339,\"MGA\":4272.894661,\"MKD\":61.393654,\"MMK\":1957.430534,\"MNT\":3163.777343,\"MOP\":8.545813,\"MRO\":377.135079,\"MUR\":44.999213,\"MVR\":16.3209,\"MWK\":863.395147,\"MXN\":21.643887,\"MYR\":4.605927,\"MZN\":67.429928,\"NAD\":16.521839,\"NGN\":438.850494,\"NIO\":37.865838,\"NOK\":9.804017,\"NPR\":129.52511,\"NZD\":1.611292,\"OMR\":0.406173,\"PAB\":1.057298,\"PEN\":4.043759,\"PGK\":3.726013,\"PHP\":55.090799,\"PKR\":196.258191,\"PLN\":4.703618,\"PYG\":7228.100592,\"QAR\":3.84636,\"RON\":4.948293,\"RSD\":117.640673,\"RUB\":78.490089,\"RWF\":1083.856394,\"SAR\":3.96208,\"SBD\":8.468181,\"SCR\":13.528559,\"SDG\":472.736393,\"SEK\":10.426184,\"SGD\":1.458515,\"SHP\":1.455087,\"SLL\":13141.632072,\"SOS\":610.074514,\"SRD\":21.927706,\"STD\":21865.373821,\"SVC\":9.251732,\"SYP\":2654.154882,\"SZL\":16.784386,\"THB\":36.266782,\"TJS\":13.162843,\"TMT\":3.697405,\"TND\":3.199048,\"TOP\":2.432256,\"TRY\":15.663156,\"TTD\":7.183569,\"TWD\":31.10658,\"TZS\":2454.020322,\"UAH\":31.981894,\"UGX\":3763.830024,\"USD\":1.056401,\"UYU\":43.044383,\"UZS\":11864.354687,\"VEF\":225890522548.0659,\"VND\":24263.42481,\"VUV\":118.931401,\"WST\":2.731264,\"XAF\":653.591285,\"XAG\":0.044737,\"XAU\":0.000555,\"XCD\":2.854977,\"XDR\":0.781272,\"XOF\":653.600532,\"XPF\":117.26039,\"YER\":264.364134,\"ZAR\":16.852139,\"ZMK\":9508.879438,\"ZMW\":17.999705,\"ZWL\":340.160784}}\n"
     ]
    }
   ],
   "source": [
    "#ac3b9cb401028534b3d972930d5e0a18\n",
    "url = 'http://api.exchangeratesapi.io/v1/latest?access_key=ac3b9cb401028534b3d972930d5e0a18'\n",
    "r = requests.get(url)\n",
    "print(r.text)"
   ]
  },
  {
   "cell_type": "code",
   "execution_count": 34,
   "metadata": {},
   "outputs": [],
   "source": [
    "# url = 'http://api.exchangeratesapi.io/v1/2022-04-27?access_key=ac3b9cb401028534b3d972930d5e0a18&base =JPY&symbols=USD,AUD,CAD,PLN,MXN'\n",
    "# r=requests.get(url, params={'base':'USD'})\n",
    "# print(r.text)"
   ]
  },
  {
   "cell_type": "code",
   "execution_count": 35,
   "metadata": {},
   "outputs": [
    {
     "name": "stdout",
     "output_type": "stream",
     "text": [
      "{'AED': 3.880188, 'AFN': 91.887408, 'ALL': 120.316216, 'AMD': 485.92312, 'ANG': 1.905448, 'AOA': 426.953033, 'ARS': 121.271909, 'AUD': 1.481782, 'AWG': 1.901522, 'AZN': 1.797465, 'BAM': 1.948804, 'BBD': 2.134724, 'BDT': 91.422527, 'BGN': 1.948773, 'BHD': 0.398182, 'BIF': 2170.942961, 'BMD': 1.056401, 'BND': 1.457126, 'BOB': 7.278916, 'BRL': 5.298889, 'BSD': 1.057298, 'BTC': 2.7107186e-05, 'BTN': 80.953468, 'BWP': 12.768783, 'BYN': 3.556179, 'BYR': 20705.465268, 'BZD': 2.131137, 'CAD': 1.356055, 'CDF': 2125.4789, 'CHF': 1.021688, 'CLF': 0.032424, 'CLP': 894.676383, 'CNY': 6.924814, 'COP': 4167.186166, 'CRC': 699.634187, 'CUC': 1.056401, 'CUP': 27.994634, 'CVE': 109.868883, 'CZK': 24.551846, 'DJF': 188.221393, 'DKK': 7.441418, 'DOP': 58.170824, 'DZD': 152.947916, 'EGP': 19.535391, 'ERN': 15.846021, 'ETB': 54.296143, 'EUR': 1, 'FJD': 2.27528, 'FKP': 0.811994, 'GBP': 0.842047, 'GEL': 3.20618, 'GGP': 0.811994, 'GHS': 7.955816, 'GIP': 0.811994, 'GMD': 56.913582, 'GNF': 9391.540083, 'GTQ': 8.097506, 'GYD': 221.194607, 'HKD': 8.288815, 'HNL': 25.949688, 'HRK': 7.566152, 'HTG': 115.241603, 'HUF': 379.543748, 'IDR': 15312.642327, 'ILS': 3.508118, 'IMP': 0.811994, 'INR': 80.961857, 'IQD': 1542.998505, 'IRR': 44738.594389, 'ISK': 138.198336, 'JEP': 0.811994, 'JMD': 163.481269, 'JOD': 0.748983, 'JPY': 135.213059, 'KES': 122.352316, 'KGS': 88.875254, 'KHR': 4275.32402, 'KMF': 482.139274, 'KPW': 950.761286, 'KRW': 1340.351533, 'KWD': 0.323513, 'KYD': 0.881111, 'KZT': 472.546299, 'LAK': 12728.427436, 'LBP': 1598.476386, 'LKR': 375.335637, 'LRD': 160.388137, 'LSL': 16.52222, 'LTL': 3.119279, 'LVL': 0.639007, 'LYD': 5.018606, 'MAD': 10.513993, 'MDL': 19.543339, 'MGA': 4272.894661, 'MKD': 61.393654, 'MMK': 1957.430534, 'MNT': 3163.777343, 'MOP': 8.545813, 'MRO': 377.135079, 'MUR': 44.999213, 'MVR': 16.3209, 'MWK': 863.395147, 'MXN': 21.643887, 'MYR': 4.605927, 'MZN': 67.429928, 'NAD': 16.521839, 'NGN': 438.850494, 'NIO': 37.865838, 'NOK': 9.804017, 'NPR': 129.52511, 'NZD': 1.611292, 'OMR': 0.406173, 'PAB': 1.057298, 'PEN': 4.043759, 'PGK': 3.726013, 'PHP': 55.090799, 'PKR': 196.258191, 'PLN': 4.703618, 'PYG': 7228.100592, 'QAR': 3.84636, 'RON': 4.948293, 'RSD': 117.640673, 'RUB': 78.490089, 'RWF': 1083.856394, 'SAR': 3.96208, 'SBD': 8.468181, 'SCR': 13.528559, 'SDG': 472.736393, 'SEK': 10.426184, 'SGD': 1.458515, 'SHP': 1.455087, 'SLL': 13141.632072, 'SOS': 610.074514, 'SRD': 21.927706, 'STD': 21865.373821, 'SVC': 9.251732, 'SYP': 2654.154882, 'SZL': 16.784386, 'THB': 36.266782, 'TJS': 13.162843, 'TMT': 3.697405, 'TND': 3.199048, 'TOP': 2.432256, 'TRY': 15.663156, 'TTD': 7.183569, 'TWD': 31.10658, 'TZS': 2454.020322, 'UAH': 31.981894, 'UGX': 3763.830024, 'USD': 1.056401, 'UYU': 43.044383, 'UZS': 11864.354687, 'VEF': 225890522548.0659, 'VND': 24263.42481, 'VUV': 118.931401, 'WST': 2.731264, 'XAF': 653.591285, 'XAG': 0.044737, 'XAU': 0.000555, 'XCD': 2.854977, 'XDR': 0.781272, 'XOF': 653.600532, 'XPF': 117.26039, 'YER': 264.364134, 'ZAR': 16.852139, 'ZMK': 9508.879438, 'ZMW': 17.999705, 'ZWL': 340.160784}\n",
      "0.842047\n",
      "200USD =  168.4094 GBP\n"
     ]
    }
   ],
   "source": [
    "#json.loads( ) converts a text string into Python dict/list objects.\n",
    "# json.dumps( ) converts dict/list objects into a string.\n",
    "rates_json = json.loads(r.text)['rates']\n",
    "print(rates_json)\n",
    "print(rates_json['GBP'])\n",
    "gbp = float(rates_json['GBP'])\n",
    "print('200USD = ',str(gbp*200),'GBP')"
   ]
  },
  {
   "cell_type": "markdown",
   "metadata": {},
   "source": [
    "Using Requests to GET Song Data\n"
   ]
  },
  {
   "cell_type": "code",
   "execution_count": 36,
   "metadata": {},
   "outputs": [
    {
     "name": "stdout",
     "output_type": "stream",
     "text": [
      "<ArrayOfArtist xmlns:i=\"http://www.w3.org/2001/XMLSchema-instance\" xmlns=\"https://mintplayer.com/music\"><Artist><ConcurrencyStamp>AAAAAAABzPE=</ConcurrencyStamp><Id>5</Id><Media i:nil=\"true\" /><Tags i:nil=\"true\" /><Text>The Outfield</Text><CurrentMembers i:nil=\"true\" /><Name>The Outfield</Name><PastMembers i:nil=\"true\" /><Songs i:nil=\"true\" /><YearQuit i:nil=\"true\" /><YearStarted>1997</YearStarted></Artist><Artist><ConcurrencyStamp>AAAAAAAB3JI=</ConcurrencyStamp><Id>8</Id><Media i:nil=\"true\" /><Tags i:nil=\"true\" /><Text>Dario G</Text><CurrentMembers i:nil=\"true\" /><Name>Dario G</Name><PastMembers i:nil=\"true\" /><Songs i:nil=\"true\" /><YearQuit i:nil=\"true\" /><YearStarted>1997</YearStarted></A\n"
     ]
    }
   ],
   "source": [
    "url = 'https://musicdemons.com/api/v1/artist'\n",
    "r = requests.get(url)\n",
    "print(r.text[:700])"
   ]
  },
  {
   "cell_type": "code",
   "execution_count": 37,
   "metadata": {},
   "outputs": [
    {
     "name": "stdout",
     "output_type": "stream",
     "text": [
      "{\"type\":\"https://tools.ietf.org/html/rfc7231#section-6.5.4\",\"title\":\"Not Found\",\"status\":404,\"traceId\":\"00-9ec026cb7bb0836a29b5749c79440ade-7d35d19755998260-00\"}\n"
     ]
    }
   ],
   "source": [
    "# url = 'https://musicdemons.com/api/v1/artist/21'\n",
    "# r = requests.get(url)\n",
    "# print(r.text)"
   ]
  },
  {
   "cell_type": "code",
   "execution_count": 38,
   "metadata": {},
   "outputs": [],
   "source": [
    "# url = 'https://musicdemons.com/api/v1/artist/21'\n",
    "# headers = {'with': 'songs,members'}\n",
    "# r = requests.get(url, headers=headers)\n",
    "# print(r.text[:700])"
   ]
  },
  {
   "cell_type": "code",
   "execution_count": null,
   "metadata": {},
   "outputs": [],
   "source": [
    "# import json\n",
    "# text_json = json.loads(r.text)\n",
    "# print(text_json['name'])\n",
    "# for song in text_json['songs']:\n",
    "#     print(song['title'])"
   ]
  }
 ],
 "metadata": {
  "kernelspec": {
   "display_name": "Python 3",
   "language": "python",
   "name": "python3"
  },
  "language_info": {
   "codemirror_mode": {
    "name": "ipython",
    "version": 3
   },
   "file_extension": ".py",
   "mimetype": "text/x-python",
   "name": "python",
   "nbconvert_exporter": "python",
   "pygments_lexer": "ipython3",
   "version": "3.8.10"
  }
 },
 "nbformat": 4,
 "nbformat_minor": 4
}
